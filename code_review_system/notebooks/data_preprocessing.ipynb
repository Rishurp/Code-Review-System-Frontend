{
 "cells": [
  {
   "cell_type": "code",
   "execution_count": 2,
   "metadata": {},
   "outputs": [],
   "source": [
    "# data_preprocessing.ipynb\n",
    "import pandas as pd\n",
    "from nltk.corpus import stopwords\n",
    "\n",
    "# Load data\n",
    "csv_path = '../data/sample_code_feedback_js.csv'\n",
    "data = pd.read_csv(csv_path)\n",
    "\n",
    "# Preprocess text\n",
    "stop_words = set(stopwords.words('english'))\n",
    "def preprocess_text(text):\n",
    "    words = text.lower().split()\n",
    "    words = [word for word in words if word.isalnum() and word not in stop_words]\n",
    "    return ' '.join(words)\n",
    "\n",
    "data['code_snippet'] = data['code_snippet'].apply(preprocess_text)\n",
    "\n",
    "# Save preprocessed data\n",
    "data.to_csv(csv_path, index=False)\n"
   ]
  }
 ],
 "metadata": {
  "kernelspec": {
   "display_name": "Python 3",
   "language": "python",
   "name": "python3"
  },
  "language_info": {
   "codemirror_mode": {
    "name": "ipython",
    "version": 3
   },
   "file_extension": ".py",
   "mimetype": "text/x-python",
   "name": "python",
   "nbconvert_exporter": "python",
   "pygments_lexer": "ipython3",
   "version": "3.12.4"
  }
 },
 "nbformat": 4,
 "nbformat_minor": 2
}
